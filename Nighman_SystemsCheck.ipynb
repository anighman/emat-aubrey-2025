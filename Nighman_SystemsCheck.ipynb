{
 "cells": [
  {
   "cell_type": "markdown",
   "id": "81033e65-586f-440a-862c-485ad928b7d4",
   "metadata": {},
   "source": [
    "# Systems Check \n",
    "\n",
    "## Aubrey Nighman \n",
    "\n",
    "### 8/20/2025\n",
    "\n",
    "In this class, I want to learn more about **preprocessing** and **visualizing data** *programmatically*. \n",
    "Some other important learning topics for me would be: \n",
    "- Python\n",
    "- Jupyter Notebook\n",
    "- Commands\n",
    "- APIs\n",
    "- Documentation\n",
    "- Statistics\n",
    "\n",
    "  \n",
    "![Flowers](https://bouqs.com/blog/wp-content/uploads/2022/03/shutterstock_260182148-min.jpg)"
   ]
  },
  {
   "cell_type": "code",
   "execution_count": null,
   "id": "4225c493-c232-4fb8-aee2-8e07b9760624",
   "metadata": {},
   "outputs": [],
   "source": [
    "name = input(\"Enter your name: \")\n",
    "print(\"Hello\", name)"
   ]
  },
  {
   "cell_type": "code",
   "execution_count": null,
   "id": "fde2b182-3d6e-4c9c-ae89-7cd2f379e5fb",
   "metadata": {},
   "outputs": [],
   "source": [
    "count = 5 \n",
    "\n",
    "for i in range(count):\n",
    "    print(\"Number:\", i)"
   ]
  },
  {
   "cell_type": "code",
   "execution_count": null,
   "id": "0f7d0436-27c4-4236-96dd-7f166345ad3f",
   "metadata": {},
   "outputs": [],
   "source": []
  }
 ],
 "metadata": {
  "kernelspec": {
   "display_name": "Python 3 (ipykernel)",
   "language": "python",
   "name": "python3"
  },
  "language_info": {
   "codemirror_mode": {
    "name": "ipython",
    "version": 3
   },
   "file_extension": ".py",
   "mimetype": "text/x-python",
   "name": "python",
   "nbconvert_exporter": "python",
   "pygments_lexer": "ipython3",
   "version": "3.12.11"
  }
 },
 "nbformat": 4,
 "nbformat_minor": 5
}
