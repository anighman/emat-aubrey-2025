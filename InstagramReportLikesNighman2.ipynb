{
 "cells": [
  {
   "cell_type": "markdown",
   "id": "cdaf2725",
   "metadata": {},
   "source": [
    "# Instagram Data Report  \n",
    "\n",
    "**Name:** Aubrey Nighman  \n",
    "**Date:** September 8, 2025  \n",
    "\n",
    "---\n",
    "\n",
    "## Questions\n",
    "\n",
    "**Source of your personal Instagram data:**  \n",
    "Seeing as though I took actions to produce this data, that means I am the source. My likes, follows, re-posts, etc., were all up to me. However, Instagram has stored and collected my data so they could also be considered the source.   \n",
    "\n",
    "**Why this data was created and what purposes does the data serve:**  \n",
    "The data was created so Instagram could track my activity on their app, give me personal recommendations, and advertisements that I would want to see and buy. For me, it can help me analyze my behavior and interests over time. Instagram may have other uses for my data that I am unaware of but as far as I know they are using it to keep me on their app longer.   \n",
    "\n",
    "**Reliability:**  \n",
    "It records what I do on the app and the timestamp the actions are done.  \n",
    "\n",
    "**Unreliability:**  \n",
    "It does not include context (why I liked a post, or whether I unliked it later), there can even be missed things because not everything is always recorded (maybe unlikely but still possible).  "
   ]
  },
  {
   "cell_type": "markdown",
   "id": "a6429c2e",
   "metadata": {},
   "source": [
    "## Section 2"
   ]
  },
  {
   "cell_type": "code",
   "execution_count": 1,
   "id": "1417b095",
   "metadata": {},
   "outputs": [],
   "source": [
    "# These are the imports \n",
    "import json\n",
    "import pandas as pd\n",
    "import matplotlib as plt"
   ]
  },
  {
   "cell_type": "code",
   "execution_count": 2,
   "id": "805b349b",
   "metadata": {},
   "outputs": [],
   "source": [
    "path = r\"/Users/aubreynighman/Desktop/Data In EMAT/Instagram Data Report/liked_posts.json\"\n",
    "with open(path, \"r\") as l: \n",
    "    dict = json.load(l)"
   ]
  },
  {
   "cell_type": "markdown",
   "id": "f234fd74",
   "metadata": {},
   "source": [
    "## Section 3\n",
    "Convert the data into the DataFrame object and assign it to a new variable using pandas DataFrame function. "
   ]
  },
  {
   "cell_type": "code",
   "execution_count": 3,
   "id": "1a9ff5c5",
   "metadata": {},
   "outputs": [
    {
     "data": {
      "text/html": [
       "<div>\n",
       "<style scoped>\n",
       "    .dataframe tbody tr th:only-of-type {\n",
       "        vertical-align: middle;\n",
       "    }\n",
       "\n",
       "    .dataframe tbody tr th {\n",
       "        vertical-align: top;\n",
       "    }\n",
       "\n",
       "    .dataframe thead th {\n",
       "        text-align: right;\n",
       "    }\n",
       "</style>\n",
       "<table border=\"1\" class=\"dataframe\">\n",
       "  <thead>\n",
       "    <tr style=\"text-align: right;\">\n",
       "      <th></th>\n",
       "      <th>likes_media_likes</th>\n",
       "    </tr>\n",
       "  </thead>\n",
       "  <tbody>\n",
       "    <tr>\n",
       "      <th>0</th>\n",
       "      <td>{'title': 'kirinlewiss', 'string_list_data': [...</td>\n",
       "    </tr>\n",
       "    <tr>\n",
       "      <th>1</th>\n",
       "      <td>{'title': 'jax_gruska', 'string_list_data': [{...</td>\n",
       "    </tr>\n",
       "    <tr>\n",
       "      <th>2</th>\n",
       "      <td>{'title': 'kiley_annabel.d', 'string_list_data...</td>\n",
       "    </tr>\n",
       "    <tr>\n",
       "      <th>3</th>\n",
       "      <td>{'title': 'bennicholsvisuals', 'string_list_da...</td>\n",
       "    </tr>\n",
       "    <tr>\n",
       "      <th>4</th>\n",
       "      <td>{'title': 'natattackdump', 'string_list_data':...</td>\n",
       "    </tr>\n",
       "  </tbody>\n",
       "</table>\n",
       "</div>"
      ],
      "text/plain": [
       "                                   likes_media_likes\n",
       "0  {'title': 'kirinlewiss', 'string_list_data': [...\n",
       "1  {'title': 'jax_gruska', 'string_list_data': [{...\n",
       "2  {'title': 'kiley_annabel.d', 'string_list_data...\n",
       "3  {'title': 'bennicholsvisuals', 'string_list_da...\n",
       "4  {'title': 'natattackdump', 'string_list_data':..."
      ]
     },
     "execution_count": 3,
     "metadata": {},
     "output_type": "execute_result"
    }
   ],
   "source": [
    "df = pd.DataFrame(dict)\n",
    "df.head()"
   ]
  },
  {
   "cell_type": "code",
   "execution_count": 4,
   "id": "34dfb547",
   "metadata": {},
   "outputs": [
    {
     "data": {
      "text/plain": [
       "dict_keys(['likes_media_likes'])"
      ]
     },
     "execution_count": 4,
     "metadata": {},
     "output_type": "execute_result"
    }
   ],
   "source": [
    "dict.keys()"
   ]
  },
  {
   "cell_type": "code",
   "execution_count": 5,
   "id": "2dc6a48a",
   "metadata": {},
   "outputs": [
    {
     "data": {
      "text/html": [
       "<div>\n",
       "<style scoped>\n",
       "    .dataframe tbody tr th:only-of-type {\n",
       "        vertical-align: middle;\n",
       "    }\n",
       "\n",
       "    .dataframe tbody tr th {\n",
       "        vertical-align: top;\n",
       "    }\n",
       "\n",
       "    .dataframe thead th {\n",
       "        text-align: right;\n",
       "    }\n",
       "</style>\n",
       "<table border=\"1\" class=\"dataframe\">\n",
       "  <thead>\n",
       "    <tr style=\"text-align: right;\">\n",
       "      <th></th>\n",
       "      <th>title</th>\n",
       "      <th>string_list_data</th>\n",
       "    </tr>\n",
       "  </thead>\n",
       "  <tbody>\n",
       "    <tr>\n",
       "      <th>0</th>\n",
       "      <td>kirinlewiss</td>\n",
       "      <td>[{'href': 'https://www.instagram.com/p/DNvdBQi...</td>\n",
       "    </tr>\n",
       "    <tr>\n",
       "      <th>1</th>\n",
       "      <td>jax_gruska</td>\n",
       "      <td>[{'href': 'https://www.instagram.com/p/DNtABgT...</td>\n",
       "    </tr>\n",
       "    <tr>\n",
       "      <th>2</th>\n",
       "      <td>kiley_annabel.d</td>\n",
       "      <td>[{'href': 'https://www.instagram.com/p/DNukJ7I...</td>\n",
       "    </tr>\n",
       "    <tr>\n",
       "      <th>3</th>\n",
       "      <td>bennicholsvisuals</td>\n",
       "      <td>[{'href': 'https://www.instagram.com/p/DNs6ch-...</td>\n",
       "    </tr>\n",
       "    <tr>\n",
       "      <th>4</th>\n",
       "      <td>natattackdump</td>\n",
       "      <td>[{'href': 'https://www.instagram.com/p/DNrXPhZ...</td>\n",
       "    </tr>\n",
       "  </tbody>\n",
       "</table>\n",
       "</div>"
      ],
      "text/plain": [
       "               title                                   string_list_data\n",
       "0        kirinlewiss  [{'href': 'https://www.instagram.com/p/DNvdBQi...\n",
       "1         jax_gruska  [{'href': 'https://www.instagram.com/p/DNtABgT...\n",
       "2    kiley_annabel.d  [{'href': 'https://www.instagram.com/p/DNukJ7I...\n",
       "3  bennicholsvisuals  [{'href': 'https://www.instagram.com/p/DNs6ch-...\n",
       "4      natattackdump  [{'href': 'https://www.instagram.com/p/DNrXPhZ..."
      ]
     },
     "execution_count": 5,
     "metadata": {},
     "output_type": "execute_result"
    }
   ],
   "source": [
    "df_tidy = pd.DataFrame(dict['likes_media_likes'])\n",
    "df_tidy.head()"
   ]
  },
  {
   "cell_type": "markdown",
   "id": "31145abe",
   "metadata": {},
   "source": [
    "## Section 4\n"
   ]
  },
  {
   "cell_type": "code",
   "execution_count": 6,
   "id": "9b30b59c",
   "metadata": {},
   "outputs": [
    {
     "data": {
      "text/plain": [
       "[{'href': 'https://www.instagram.com/p/DNvdBQiWmoi/',\n",
       "  'value': 'ð\\x9f\\x91\\x8d',\n",
       "  'timestamp': 1756122299}]"
      ]
     },
     "execution_count": 6,
     "metadata": {},
     "output_type": "execute_result"
    }
   ],
   "source": [
    "df_tidy['string_list_data'].iloc[0]"
   ]
  },
  {
   "cell_type": "code",
   "execution_count": 7,
   "id": "1b6dedcf",
   "metadata": {},
   "outputs": [
    {
     "data": {
      "text/plain": [
       "list"
      ]
     },
     "execution_count": 7,
     "metadata": {},
     "output_type": "execute_result"
    }
   ],
   "source": [
    "type(df_tidy['string_list_data'].iloc[0])"
   ]
  },
  {
   "cell_type": "code",
   "execution_count": 8,
   "id": "ef6f7d67",
   "metadata": {},
   "outputs": [
    {
     "data": {
      "text/plain": [
       "1"
      ]
     },
     "execution_count": 8,
     "metadata": {},
     "output_type": "execute_result"
    }
   ],
   "source": [
    "len(df_tidy['string_list_data'].iloc[0])"
   ]
  },
  {
   "cell_type": "code",
   "execution_count": 9,
   "id": "f87c29ee",
   "metadata": {},
   "outputs": [
    {
     "data": {
      "text/plain": [
       "1756122299"
      ]
     },
     "execution_count": 9,
     "metadata": {},
     "output_type": "execute_result"
    }
   ],
   "source": [
    "df_tidy['string_list_data'].iloc[0][0]['timestamp']"
   ]
  },
  {
   "cell_type": "code",
   "execution_count": 10,
   "id": "35931eab",
   "metadata": {},
   "outputs": [
    {
     "data": {
      "text/html": [
       "<div>\n",
       "<style scoped>\n",
       "    .dataframe tbody tr th:only-of-type {\n",
       "        vertical-align: middle;\n",
       "    }\n",
       "\n",
       "    .dataframe tbody tr th {\n",
       "        vertical-align: top;\n",
       "    }\n",
       "\n",
       "    .dataframe thead th {\n",
       "        text-align: right;\n",
       "    }\n",
       "</style>\n",
       "<table border=\"1\" class=\"dataframe\">\n",
       "  <thead>\n",
       "    <tr style=\"text-align: right;\">\n",
       "      <th></th>\n",
       "      <th>title</th>\n",
       "      <th>string_list_data</th>\n",
       "      <th>Time of Like</th>\n",
       "    </tr>\n",
       "  </thead>\n",
       "  <tbody>\n",
       "    <tr>\n",
       "      <th>0</th>\n",
       "      <td>kirinlewiss</td>\n",
       "      <td>[{'href': 'https://www.instagram.com/p/DNvdBQi...</td>\n",
       "      <td>1756122299</td>\n",
       "    </tr>\n",
       "    <tr>\n",
       "      <th>1</th>\n",
       "      <td>jax_gruska</td>\n",
       "      <td>[{'href': 'https://www.instagram.com/p/DNtABgT...</td>\n",
       "      <td>1756067851</td>\n",
       "    </tr>\n",
       "    <tr>\n",
       "      <th>2</th>\n",
       "      <td>kiley_annabel.d</td>\n",
       "      <td>[{'href': 'https://www.instagram.com/p/DNukJ7I...</td>\n",
       "      <td>1756034754</td>\n",
       "    </tr>\n",
       "    <tr>\n",
       "      <th>3</th>\n",
       "      <td>bennicholsvisuals</td>\n",
       "      <td>[{'href': 'https://www.instagram.com/p/DNs6ch-...</td>\n",
       "      <td>1755992493</td>\n",
       "    </tr>\n",
       "    <tr>\n",
       "      <th>4</th>\n",
       "      <td>natattackdump</td>\n",
       "      <td>[{'href': 'https://www.instagram.com/p/DNrXPhZ...</td>\n",
       "      <td>1755949995</td>\n",
       "    </tr>\n",
       "  </tbody>\n",
       "</table>\n",
       "</div>"
      ],
      "text/plain": [
       "               title                                   string_list_data  \\\n",
       "0        kirinlewiss  [{'href': 'https://www.instagram.com/p/DNvdBQi...   \n",
       "1         jax_gruska  [{'href': 'https://www.instagram.com/p/DNtABgT...   \n",
       "2    kiley_annabel.d  [{'href': 'https://www.instagram.com/p/DNukJ7I...   \n",
       "3  bennicholsvisuals  [{'href': 'https://www.instagram.com/p/DNs6ch-...   \n",
       "4      natattackdump  [{'href': 'https://www.instagram.com/p/DNrXPhZ...   \n",
       "\n",
       "   Time of Like  \n",
       "0    1756122299  \n",
       "1    1756067851  \n",
       "2    1756034754  \n",
       "3    1755992493  \n",
       "4    1755949995  "
      ]
     },
     "execution_count": 10,
     "metadata": {},
     "output_type": "execute_result"
    }
   ],
   "source": [
    "df_tidy['Time of Like'] = [ i [0]['timestamp'] for i in df_tidy['string_list_data']]\n",
    "df_tidy.head()  "
   ]
  },
  {
   "cell_type": "code",
   "execution_count": 11,
   "id": "2f7a0276",
   "metadata": {},
   "outputs": [
    {
     "data": {
      "text/html": [
       "<div>\n",
       "<style scoped>\n",
       "    .dataframe tbody tr th:only-of-type {\n",
       "        vertical-align: middle;\n",
       "    }\n",
       "\n",
       "    .dataframe tbody tr th {\n",
       "        vertical-align: top;\n",
       "    }\n",
       "\n",
       "    .dataframe thead th {\n",
       "        text-align: right;\n",
       "    }\n",
       "</style>\n",
       "<table border=\"1\" class=\"dataframe\">\n",
       "  <thead>\n",
       "    <tr style=\"text-align: right;\">\n",
       "      <th></th>\n",
       "      <th>title</th>\n",
       "      <th>string_list_data</th>\n",
       "      <th>Time of Like</th>\n",
       "      <th>Date of Like</th>\n",
       "    </tr>\n",
       "  </thead>\n",
       "  <tbody>\n",
       "    <tr>\n",
       "      <th>0</th>\n",
       "      <td>kirinlewiss</td>\n",
       "      <td>[{'href': 'https://www.instagram.com/p/DNvdBQi...</td>\n",
       "      <td>1756122299</td>\n",
       "      <td>2025-08-25 07:44:59</td>\n",
       "    </tr>\n",
       "    <tr>\n",
       "      <th>1</th>\n",
       "      <td>jax_gruska</td>\n",
       "      <td>[{'href': 'https://www.instagram.com/p/DNtABgT...</td>\n",
       "      <td>1756067851</td>\n",
       "      <td>2025-08-24 16:37:31</td>\n",
       "    </tr>\n",
       "    <tr>\n",
       "      <th>2</th>\n",
       "      <td>kiley_annabel.d</td>\n",
       "      <td>[{'href': 'https://www.instagram.com/p/DNukJ7I...</td>\n",
       "      <td>1756034754</td>\n",
       "      <td>2025-08-24 07:25:54</td>\n",
       "    </tr>\n",
       "    <tr>\n",
       "      <th>3</th>\n",
       "      <td>bennicholsvisuals</td>\n",
       "      <td>[{'href': 'https://www.instagram.com/p/DNs6ch-...</td>\n",
       "      <td>1755992493</td>\n",
       "      <td>2025-08-23 19:41:33</td>\n",
       "    </tr>\n",
       "    <tr>\n",
       "      <th>4</th>\n",
       "      <td>natattackdump</td>\n",
       "      <td>[{'href': 'https://www.instagram.com/p/DNrXPhZ...</td>\n",
       "      <td>1755949995</td>\n",
       "      <td>2025-08-23 07:53:15</td>\n",
       "    </tr>\n",
       "  </tbody>\n",
       "</table>\n",
       "</div>"
      ],
      "text/plain": [
       "               title                                   string_list_data  \\\n",
       "0        kirinlewiss  [{'href': 'https://www.instagram.com/p/DNvdBQi...   \n",
       "1         jax_gruska  [{'href': 'https://www.instagram.com/p/DNtABgT...   \n",
       "2    kiley_annabel.d  [{'href': 'https://www.instagram.com/p/DNukJ7I...   \n",
       "3  bennicholsvisuals  [{'href': 'https://www.instagram.com/p/DNs6ch-...   \n",
       "4      natattackdump  [{'href': 'https://www.instagram.com/p/DNrXPhZ...   \n",
       "\n",
       "   Time of Like        Date of Like  \n",
       "0    1756122299 2025-08-25 07:44:59  \n",
       "1    1756067851 2025-08-24 16:37:31  \n",
       "2    1756034754 2025-08-24 07:25:54  \n",
       "3    1755992493 2025-08-23 19:41:33  \n",
       "4    1755949995 2025-08-23 07:53:15  "
      ]
     },
     "execution_count": 11,
     "metadata": {},
     "output_type": "execute_result"
    }
   ],
   "source": [
    "# good to have\n",
    "from datetime import datetime\n",
    "df_tidy['Date of Like'] = [\n",
    "    datetime.fromtimestamp(i[0]['timestamp']) for i in df_tidy['string_list_data']\n",
    "]\n",
    "df_tidy.head()"
   ]
  },
  {
   "cell_type": "code",
   "execution_count": 12,
   "id": "55f5efbb",
   "metadata": {},
   "outputs": [
    {
     "data": {
      "text/html": [
       "<div>\n",
       "<style scoped>\n",
       "    .dataframe tbody tr th:only-of-type {\n",
       "        vertical-align: middle;\n",
       "    }\n",
       "\n",
       "    .dataframe tbody tr th {\n",
       "        vertical-align: top;\n",
       "    }\n",
       "\n",
       "    .dataframe thead th {\n",
       "        text-align: right;\n",
       "    }\n",
       "</style>\n",
       "<table border=\"1\" class=\"dataframe\">\n",
       "  <thead>\n",
       "    <tr style=\"text-align: right;\">\n",
       "      <th></th>\n",
       "      <th>title</th>\n",
       "      <th>string_list_data</th>\n",
       "      <th>Time of Like</th>\n",
       "      <th>Date of Like</th>\n",
       "      <th>href</th>\n",
       "    </tr>\n",
       "  </thead>\n",
       "  <tbody>\n",
       "    <tr>\n",
       "      <th>0</th>\n",
       "      <td>kirinlewiss</td>\n",
       "      <td>[{'href': 'https://www.instagram.com/p/DNvdBQi...</td>\n",
       "      <td>1756122299</td>\n",
       "      <td>2025-08-25 07:44:59</td>\n",
       "      <td>https://www.instagram.com/p/DNvdBQiWmoi/</td>\n",
       "    </tr>\n",
       "    <tr>\n",
       "      <th>1</th>\n",
       "      <td>jax_gruska</td>\n",
       "      <td>[{'href': 'https://www.instagram.com/p/DNtABgT...</td>\n",
       "      <td>1756067851</td>\n",
       "      <td>2025-08-24 16:37:31</td>\n",
       "      <td>https://www.instagram.com/p/DNtABgT3KmU/</td>\n",
       "    </tr>\n",
       "    <tr>\n",
       "      <th>2</th>\n",
       "      <td>kiley_annabel.d</td>\n",
       "      <td>[{'href': 'https://www.instagram.com/p/DNukJ7I...</td>\n",
       "      <td>1756034754</td>\n",
       "      <td>2025-08-24 07:25:54</td>\n",
       "      <td>https://www.instagram.com/p/DNukJ7I2NYK/</td>\n",
       "    </tr>\n",
       "    <tr>\n",
       "      <th>3</th>\n",
       "      <td>bennicholsvisuals</td>\n",
       "      <td>[{'href': 'https://www.instagram.com/p/DNs6ch-...</td>\n",
       "      <td>1755992493</td>\n",
       "      <td>2025-08-23 19:41:33</td>\n",
       "      <td>https://www.instagram.com/p/DNs6ch-u9-D/</td>\n",
       "    </tr>\n",
       "    <tr>\n",
       "      <th>4</th>\n",
       "      <td>natattackdump</td>\n",
       "      <td>[{'href': 'https://www.instagram.com/p/DNrXPhZ...</td>\n",
       "      <td>1755949995</td>\n",
       "      <td>2025-08-23 07:53:15</td>\n",
       "      <td>https://www.instagram.com/p/DNrXPhZ2NPT/</td>\n",
       "    </tr>\n",
       "  </tbody>\n",
       "</table>\n",
       "</div>"
      ],
      "text/plain": [
       "               title                                   string_list_data  \\\n",
       "0        kirinlewiss  [{'href': 'https://www.instagram.com/p/DNvdBQi...   \n",
       "1         jax_gruska  [{'href': 'https://www.instagram.com/p/DNtABgT...   \n",
       "2    kiley_annabel.d  [{'href': 'https://www.instagram.com/p/DNukJ7I...   \n",
       "3  bennicholsvisuals  [{'href': 'https://www.instagram.com/p/DNs6ch-...   \n",
       "4      natattackdump  [{'href': 'https://www.instagram.com/p/DNrXPhZ...   \n",
       "\n",
       "   Time of Like        Date of Like                                      href  \n",
       "0    1756122299 2025-08-25 07:44:59  https://www.instagram.com/p/DNvdBQiWmoi/  \n",
       "1    1756067851 2025-08-24 16:37:31  https://www.instagram.com/p/DNtABgT3KmU/  \n",
       "2    1756034754 2025-08-24 07:25:54  https://www.instagram.com/p/DNukJ7I2NYK/  \n",
       "3    1755992493 2025-08-23 19:41:33  https://www.instagram.com/p/DNs6ch-u9-D/  \n",
       "4    1755949995 2025-08-23 07:53:15  https://www.instagram.com/p/DNrXPhZ2NPT/  "
      ]
     },
     "execution_count": 12,
     "metadata": {},
     "output_type": "execute_result"
    }
   ],
   "source": [
    "df_tidy['href'] = [ i [0]['href'] for i in df_tidy['string_list_data']]\n",
    "df_tidy.head()"
   ]
  },
  {
   "cell_type": "code",
   "execution_count": 13,
   "id": "c3f611f4",
   "metadata": {},
   "outputs": [
    {
     "data": {
      "text/html": [
       "<div>\n",
       "<style scoped>\n",
       "    .dataframe tbody tr th:only-of-type {\n",
       "        vertical-align: middle;\n",
       "    }\n",
       "\n",
       "    .dataframe tbody tr th {\n",
       "        vertical-align: top;\n",
       "    }\n",
       "\n",
       "    .dataframe thead th {\n",
       "        text-align: right;\n",
       "    }\n",
       "</style>\n",
       "<table border=\"1\" class=\"dataframe\">\n",
       "  <thead>\n",
       "    <tr style=\"text-align: right;\">\n",
       "      <th></th>\n",
       "      <th>title</th>\n",
       "      <th>string_list_data</th>\n",
       "      <th>Time of Like</th>\n",
       "      <th>Date of Like</th>\n",
       "      <th>href</th>\n",
       "      <th>value</th>\n",
       "    </tr>\n",
       "  </thead>\n",
       "  <tbody>\n",
       "    <tr>\n",
       "      <th>0</th>\n",
       "      <td>kirinlewiss</td>\n",
       "      <td>[{'href': 'https://www.instagram.com/p/DNvdBQi...</td>\n",
       "      <td>1756122299</td>\n",
       "      <td>2025-08-25 07:44:59</td>\n",
       "      <td>https://www.instagram.com/p/DNvdBQiWmoi/</td>\n",
       "      <td>ð</td>\n",
       "    </tr>\n",
       "    <tr>\n",
       "      <th>1</th>\n",
       "      <td>jax_gruska</td>\n",
       "      <td>[{'href': 'https://www.instagram.com/p/DNtABgT...</td>\n",
       "      <td>1756067851</td>\n",
       "      <td>2025-08-24 16:37:31</td>\n",
       "      <td>https://www.instagram.com/p/DNtABgT3KmU/</td>\n",
       "      <td>ð</td>\n",
       "    </tr>\n",
       "    <tr>\n",
       "      <th>2</th>\n",
       "      <td>kiley_annabel.d</td>\n",
       "      <td>[{'href': 'https://www.instagram.com/p/DNukJ7I...</td>\n",
       "      <td>1756034754</td>\n",
       "      <td>2025-08-24 07:25:54</td>\n",
       "      <td>https://www.instagram.com/p/DNukJ7I2NYK/</td>\n",
       "      <td>ð</td>\n",
       "    </tr>\n",
       "    <tr>\n",
       "      <th>3</th>\n",
       "      <td>bennicholsvisuals</td>\n",
       "      <td>[{'href': 'https://www.instagram.com/p/DNs6ch-...</td>\n",
       "      <td>1755992493</td>\n",
       "      <td>2025-08-23 19:41:33</td>\n",
       "      <td>https://www.instagram.com/p/DNs6ch-u9-D/</td>\n",
       "      <td>ð</td>\n",
       "    </tr>\n",
       "    <tr>\n",
       "      <th>4</th>\n",
       "      <td>natattackdump</td>\n",
       "      <td>[{'href': 'https://www.instagram.com/p/DNrXPhZ...</td>\n",
       "      <td>1755949995</td>\n",
       "      <td>2025-08-23 07:53:15</td>\n",
       "      <td>https://www.instagram.com/p/DNrXPhZ2NPT/</td>\n",
       "      <td>ð</td>\n",
       "    </tr>\n",
       "  </tbody>\n",
       "</table>\n",
       "</div>"
      ],
      "text/plain": [
       "               title                                   string_list_data  \\\n",
       "0        kirinlewiss  [{'href': 'https://www.instagram.com/p/DNvdBQi...   \n",
       "1         jax_gruska  [{'href': 'https://www.instagram.com/p/DNtABgT...   \n",
       "2    kiley_annabel.d  [{'href': 'https://www.instagram.com/p/DNukJ7I...   \n",
       "3  bennicholsvisuals  [{'href': 'https://www.instagram.com/p/DNs6ch-...   \n",
       "4      natattackdump  [{'href': 'https://www.instagram.com/p/DNrXPhZ...   \n",
       "\n",
       "   Time of Like        Date of Like                                      href  \\\n",
       "0    1756122299 2025-08-25 07:44:59  https://www.instagram.com/p/DNvdBQiWmoi/   \n",
       "1    1756067851 2025-08-24 16:37:31  https://www.instagram.com/p/DNtABgT3KmU/   \n",
       "2    1756034754 2025-08-24 07:25:54  https://www.instagram.com/p/DNukJ7I2NYK/   \n",
       "3    1755992493 2025-08-23 19:41:33  https://www.instagram.com/p/DNs6ch-u9-D/   \n",
       "4    1755949995 2025-08-23 07:53:15  https://www.instagram.com/p/DNrXPhZ2NPT/   \n",
       "\n",
       "  value  \n",
       "0  ð  \n",
       "1  ð  \n",
       "2  ð  \n",
       "3  ð  \n",
       "4  ð  "
      ]
     },
     "execution_count": 13,
     "metadata": {},
     "output_type": "execute_result"
    }
   ],
   "source": [
    "df_tidy['value'] = [ i [0]['value'] for i in df_tidy['string_list_data']]\n",
    "df_tidy.head()"
   ]
  },
  {
   "cell_type": "code",
   "execution_count": 14,
   "id": "4a2e844b",
   "metadata": {},
   "outputs": [],
   "source": [
    "df_tidy.drop(columns=['string_list_data'], inplace=True)"
   ]
  },
  {
   "cell_type": "markdown",
   "id": "e36fe79f",
   "metadata": {},
   "source": [
    "## Section 5"
   ]
  },
  {
   "cell_type": "code",
   "execution_count": 15,
   "id": "8ce94685",
   "metadata": {},
   "outputs": [
    {
     "data": {
      "text/html": [
       "<div>\n",
       "<style scoped>\n",
       "    .dataframe tbody tr th:only-of-type {\n",
       "        vertical-align: middle;\n",
       "    }\n",
       "\n",
       "    .dataframe tbody tr th {\n",
       "        vertical-align: top;\n",
       "    }\n",
       "\n",
       "    .dataframe thead th {\n",
       "        text-align: right;\n",
       "    }\n",
       "</style>\n",
       "<table border=\"1\" class=\"dataframe\">\n",
       "  <thead>\n",
       "    <tr style=\"text-align: right;\">\n",
       "      <th></th>\n",
       "      <th>title</th>\n",
       "      <th>Date of Like</th>\n",
       "      <th>href</th>\n",
       "      <th>value</th>\n",
       "    </tr>\n",
       "    <tr>\n",
       "      <th>Time of Like</th>\n",
       "      <th></th>\n",
       "      <th></th>\n",
       "      <th></th>\n",
       "      <th></th>\n",
       "    </tr>\n",
       "  </thead>\n",
       "  <tbody>\n",
       "    <tr>\n",
       "      <th>1724680378</th>\n",
       "      <td>1</td>\n",
       "      <td>1</td>\n",
       "      <td>1</td>\n",
       "      <td>1</td>\n",
       "    </tr>\n",
       "    <tr>\n",
       "      <th>1749014649</th>\n",
       "      <td>1</td>\n",
       "      <td>1</td>\n",
       "      <td>1</td>\n",
       "      <td>1</td>\n",
       "    </tr>\n",
       "    <tr>\n",
       "      <th>1749013895</th>\n",
       "      <td>1</td>\n",
       "      <td>1</td>\n",
       "      <td>1</td>\n",
       "      <td>1</td>\n",
       "    </tr>\n",
       "    <tr>\n",
       "      <th>1749013981</th>\n",
       "      <td>1</td>\n",
       "      <td>1</td>\n",
       "      <td>1</td>\n",
       "      <td>1</td>\n",
       "    </tr>\n",
       "    <tr>\n",
       "      <th>1749014039</th>\n",
       "      <td>1</td>\n",
       "      <td>1</td>\n",
       "      <td>1</td>\n",
       "      <td>1</td>\n",
       "    </tr>\n",
       "    <tr>\n",
       "      <th>...</th>\n",
       "      <td>...</td>\n",
       "      <td>...</td>\n",
       "      <td>...</td>\n",
       "      <td>...</td>\n",
       "    </tr>\n",
       "    <tr>\n",
       "      <th>1742745548</th>\n",
       "      <td>1</td>\n",
       "      <td>1</td>\n",
       "      <td>1</td>\n",
       "      <td>1</td>\n",
       "    </tr>\n",
       "    <tr>\n",
       "      <th>1742745614</th>\n",
       "      <td>1</td>\n",
       "      <td>1</td>\n",
       "      <td>1</td>\n",
       "      <td>1</td>\n",
       "    </tr>\n",
       "    <tr>\n",
       "      <th>1742745763</th>\n",
       "      <td>1</td>\n",
       "      <td>1</td>\n",
       "      <td>1</td>\n",
       "      <td>1</td>\n",
       "    </tr>\n",
       "    <tr>\n",
       "      <th>1742745805</th>\n",
       "      <td>1</td>\n",
       "      <td>1</td>\n",
       "      <td>1</td>\n",
       "      <td>1</td>\n",
       "    </tr>\n",
       "    <tr>\n",
       "      <th>1756122299</th>\n",
       "      <td>1</td>\n",
       "      <td>1</td>\n",
       "      <td>1</td>\n",
       "      <td>1</td>\n",
       "    </tr>\n",
       "  </tbody>\n",
       "</table>\n",
       "<p>948 rows × 4 columns</p>\n",
       "</div>"
      ],
      "text/plain": [
       "              title  Date of Like  href  value\n",
       "Time of Like                                  \n",
       "1724680378        1             1     1      1\n",
       "1749014649        1             1     1      1\n",
       "1749013895        1             1     1      1\n",
       "1749013981        1             1     1      1\n",
       "1749014039        1             1     1      1\n",
       "...             ...           ...   ...    ...\n",
       "1742745548        1             1     1      1\n",
       "1742745614        1             1     1      1\n",
       "1742745763        1             1     1      1\n",
       "1742745805        1             1     1      1\n",
       "1756122299        1             1     1      1\n",
       "\n",
       "[948 rows x 4 columns]"
      ]
     },
     "execution_count": 15,
     "metadata": {},
     "output_type": "execute_result"
    }
   ],
   "source": [
    "df_tidy.groupby('Time of Like').count().sort_values('Date of Like', ascending=False)"
   ]
  }
 ],
 "metadata": {
  "kernelspec": {
   "display_name": "Python [conda env:base] *",
   "language": "python",
   "name": "conda-base-py"
  },
  "language_info": {
   "codemirror_mode": {
    "name": "ipython",
    "version": 3
   },
   "file_extension": ".py",
   "mimetype": "text/x-python",
   "name": "python",
   "nbconvert_exporter": "python",
   "pygments_lexer": "ipython3",
   "version": "3.13.5"
  }
 },
 "nbformat": 4,
 "nbformat_minor": 5
}
