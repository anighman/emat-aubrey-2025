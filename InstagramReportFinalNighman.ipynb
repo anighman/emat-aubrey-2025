{
 "cells": [
  {
   "cell_type": "markdown",
   "id": "e4814b52-14f1-436d-a77d-384e9fc05b98",
   "metadata": {},
   "source": [
    "# Instagram Data Report\n",
    "\n",
    "**Name:** Aubrey Nighman\n",
    "**Date:** September 8, 2025\n",
    "\n",
    "## Questions\n",
    "\n",
    "**Source of Instagram data:**\n",
    "Seeing as though I did things make this data, that means I am the source. My actions were all up to me. Even though, Instagram has stored and collected my data, it could also the source.\n",
    "\n",
    "**Why this data was created:**\n",
    "The data was created so Instagram could track my activity on their app, give me personal recommendations, and advertisements that I would want to see and buy. For me, it can help me analyze my behavior and interests over time. Instagram may have other uses for my data that I am unaware of, but as far as I know, they are using it to keep me on their app longer.\n",
    "\n",
    "**Reliability:**\n",
    "It records what I do on the app and the timestamp when the actions are done.\n",
    "\n",
    "**Unreliability:**\n",
    "It does not include context like why I liked a post, or whether I unliked it later. There can even be missed things because not everything is always recorded (maybe unlikely, but still possible)."
   ]
  },
  {
   "cell_type": "markdown",
   "id": "5c89d38d-9ccc-4f2c-970b-918e4f8e1e31",
   "metadata": {},
   "source": [
    "# Section 2\n",
    "## Imports "
   ]
  },
  {
   "cell_type": "code",
   "execution_count": 74,
   "id": "65ccbe0d-68cf-4049-a3d7-a2f63d2ec4c7",
   "metadata": {},
   "outputs": [],
   "source": [
    "\n",
    "import json\n",
    "import pandas as pd\n",
    "import matplotlib as plt\n",
    "\n",
    "path = r\"/Users/aubreynighman/Desktop/Data In EMAT/Instagram Data Report/liked_posts.json\"\n",
    "with open(path, \"r\") as l: \n",
    "    dict = json.load(l)\n",
    "\n"
   ]
  },
  {
   "cell_type": "markdown",
   "id": "e307a87a-838e-4503-a263-bea1aac8fae5",
   "metadata": {},
   "source": [
    "# Section 3"
   ]
  },
  {
   "cell_type": "code",
   "execution_count": 75,
   "id": "8d0017f3-81ca-43fa-be6f-265e8adaa7ae",
   "metadata": {},
   "outputs": [
    {
     "data": {
      "text/html": [
       "<div>\n",
       "<style scoped>\n",
       "    .dataframe tbody tr th:only-of-type {\n",
       "        vertical-align: middle;\n",
       "    }\n",
       "\n",
       "    .dataframe tbody tr th {\n",
       "        vertical-align: top;\n",
       "    }\n",
       "\n",
       "    .dataframe thead th {\n",
       "        text-align: right;\n",
       "    }\n",
       "</style>\n",
       "<table border=\"1\" class=\"dataframe\">\n",
       "  <thead>\n",
       "    <tr style=\"text-align: right;\">\n",
       "      <th></th>\n",
       "      <th>title</th>\n",
       "      <th>string_list_data</th>\n",
       "    </tr>\n",
       "  </thead>\n",
       "  <tbody>\n",
       "    <tr>\n",
       "      <th>0</th>\n",
       "      <td>kirinlewiss</td>\n",
       "      <td>[{'href': 'https://www.instagram.com/p/DNvdBQi...</td>\n",
       "    </tr>\n",
       "    <tr>\n",
       "      <th>1</th>\n",
       "      <td>jax_gruska</td>\n",
       "      <td>[{'href': 'https://www.instagram.com/p/DNtABgT...</td>\n",
       "    </tr>\n",
       "    <tr>\n",
       "      <th>2</th>\n",
       "      <td>kiley_annabel.d</td>\n",
       "      <td>[{'href': 'https://www.instagram.com/p/DNukJ7I...</td>\n",
       "    </tr>\n",
       "    <tr>\n",
       "      <th>3</th>\n",
       "      <td>bennicholsvisuals</td>\n",
       "      <td>[{'href': 'https://www.instagram.com/p/DNs6ch-...</td>\n",
       "    </tr>\n",
       "    <tr>\n",
       "      <th>4</th>\n",
       "      <td>natattackdump</td>\n",
       "      <td>[{'href': 'https://www.instagram.com/p/DNrXPhZ...</td>\n",
       "    </tr>\n",
       "  </tbody>\n",
       "</table>\n",
       "</div>"
      ],
      "text/plain": [
       "               title                                   string_list_data\n",
       "0        kirinlewiss  [{'href': 'https://www.instagram.com/p/DNvdBQi...\n",
       "1         jax_gruska  [{'href': 'https://www.instagram.com/p/DNtABgT...\n",
       "2    kiley_annabel.d  [{'href': 'https://www.instagram.com/p/DNukJ7I...\n",
       "3  bennicholsvisuals  [{'href': 'https://www.instagram.com/p/DNs6ch-...\n",
       "4      natattackdump  [{'href': 'https://www.instagram.com/p/DNrXPhZ..."
      ]
     },
     "execution_count": 75,
     "metadata": {},
     "output_type": "execute_result"
    }
   ],
   "source": [
    "df = pd.DataFrame(dict)\n",
    "df.head()\n",
    "\n",
    "# Check dictionary keys\n",
    "dict.keys()\n",
    "\n",
    "# Extract the 'likes_media_likes' key into a tidy DataFrame\n",
    "df_tidy = pd.DataFrame(dict['likes_media_likes'])\n",
    "df_tidy.head()\n",
    "\n",
    "\n"
   ]
  },
  {
   "cell_type": "markdown",
   "id": "7f6462ea-7920-4e1d-9b3d-0fd95c502a97",
   "metadata": {},
   "source": [
    "# Section 4"
   ]
  },
  {
   "cell_type": "code",
   "execution_count": 76,
   "id": "ec891dc3-5687-406e-87fc-ace7bb64f385",
   "metadata": {},
   "outputs": [
    {
     "data": {
      "text/html": [
       "<div>\n",
       "<style scoped>\n",
       "    .dataframe tbody tr th:only-of-type {\n",
       "        vertical-align: middle;\n",
       "    }\n",
       "\n",
       "    .dataframe tbody tr th {\n",
       "        vertical-align: top;\n",
       "    }\n",
       "\n",
       "    .dataframe thead th {\n",
       "        text-align: right;\n",
       "    }\n",
       "</style>\n",
       "<table border=\"1\" class=\"dataframe\">\n",
       "  <thead>\n",
       "    <tr style=\"text-align: right;\">\n",
       "      <th></th>\n",
       "      <th>title</th>\n",
       "      <th>string_list_data</th>\n",
       "      <th>Time of Like</th>\n",
       "    </tr>\n",
       "  </thead>\n",
       "  <tbody>\n",
       "    <tr>\n",
       "      <th>0</th>\n",
       "      <td>kirinlewiss</td>\n",
       "      <td>[{'href': 'https://www.instagram.com/p/DNvdBQi...</td>\n",
       "      <td>1756122299</td>\n",
       "    </tr>\n",
       "    <tr>\n",
       "      <th>1</th>\n",
       "      <td>jax_gruska</td>\n",
       "      <td>[{'href': 'https://www.instagram.com/p/DNtABgT...</td>\n",
       "      <td>1756067851</td>\n",
       "    </tr>\n",
       "    <tr>\n",
       "      <th>2</th>\n",
       "      <td>kiley_annabel.d</td>\n",
       "      <td>[{'href': 'https://www.instagram.com/p/DNukJ7I...</td>\n",
       "      <td>1756034754</td>\n",
       "    </tr>\n",
       "    <tr>\n",
       "      <th>3</th>\n",
       "      <td>bennicholsvisuals</td>\n",
       "      <td>[{'href': 'https://www.instagram.com/p/DNs6ch-...</td>\n",
       "      <td>1755992493</td>\n",
       "    </tr>\n",
       "    <tr>\n",
       "      <th>4</th>\n",
       "      <td>natattackdump</td>\n",
       "      <td>[{'href': 'https://www.instagram.com/p/DNrXPhZ...</td>\n",
       "      <td>1755949995</td>\n",
       "    </tr>\n",
       "  </tbody>\n",
       "</table>\n",
       "</div>"
      ],
      "text/plain": [
       "               title                                   string_list_data  \\\n",
       "0        kirinlewiss  [{'href': 'https://www.instagram.com/p/DNvdBQi...   \n",
       "1         jax_gruska  [{'href': 'https://www.instagram.com/p/DNtABgT...   \n",
       "2    kiley_annabel.d  [{'href': 'https://www.instagram.com/p/DNukJ7I...   \n",
       "3  bennicholsvisuals  [{'href': 'https://www.instagram.com/p/DNs6ch-...   \n",
       "4      natattackdump  [{'href': 'https://www.instagram.com/p/DNrXPhZ...   \n",
       "\n",
       "   Time of Like  \n",
       "0    1756122299  \n",
       "1    1756067851  \n",
       "2    1756034754  \n",
       "3    1755992493  \n",
       "4    1755949995  "
      ]
     },
     "execution_count": 76,
     "metadata": {},
     "output_type": "execute_result"
    }
   ],
   "source": [
    "df_tidy['string_list_data'].iloc[0]\n",
    "type(df_tidy['string_list_data'].iloc[0])\n",
    "len(df_tidy['string_list_data'].iloc[0])\n",
    "df_tidy['string_list_data'].iloc[0][0]['timestamp']\n",
    "\n",
    "df_tidy['Time of Like'] = [i[0]['timestamp'] for i in df_tidy['string_list_data']]\n",
    "df_tidy.head()\n",
    "\n"
   ]
  },
  {
   "cell_type": "markdown",
   "id": "61d600f0-34dd-4780-9b50-132dce46d9fa",
   "metadata": {},
   "source": [
    "# Section 5"
   ]
  },
  {
   "cell_type": "code",
   "execution_count": 77,
   "id": "8ce94685",
   "metadata": {},
   "outputs": [
    {
     "data": {
      "text/html": [
       "<div>\n",
       "<style scoped>\n",
       "    .dataframe tbody tr th:only-of-type {\n",
       "        vertical-align: middle;\n",
       "    }\n",
       "\n",
       "    .dataframe tbody tr th {\n",
       "        vertical-align: top;\n",
       "    }\n",
       "\n",
       "    .dataframe thead th {\n",
       "        text-align: right;\n",
       "    }\n",
       "</style>\n",
       "<table border=\"1\" class=\"dataframe\">\n",
       "  <thead>\n",
       "    <tr style=\"text-align: right;\">\n",
       "      <th></th>\n",
       "      <th>title</th>\n",
       "      <th>Time of Like</th>\n",
       "      <th>Date of Like</th>\n",
       "      <th>href</th>\n",
       "      <th>value</th>\n",
       "    </tr>\n",
       "  </thead>\n",
       "  <tbody>\n",
       "    <tr>\n",
       "      <th>0</th>\n",
       "      <td>kirinlewiss</td>\n",
       "      <td>1756122299</td>\n",
       "      <td>2025-08-25 07:44:59</td>\n",
       "      <td>https://www.instagram.com/p/DNvdBQiWmoi/</td>\n",
       "      <td>ð</td>\n",
       "    </tr>\n",
       "    <tr>\n",
       "      <th>1</th>\n",
       "      <td>jax_gruska</td>\n",
       "      <td>1756067851</td>\n",
       "      <td>2025-08-24 16:37:31</td>\n",
       "      <td>https://www.instagram.com/p/DNtABgT3KmU/</td>\n",
       "      <td>ð</td>\n",
       "    </tr>\n",
       "    <tr>\n",
       "      <th>2</th>\n",
       "      <td>kiley_annabel.d</td>\n",
       "      <td>1756034754</td>\n",
       "      <td>2025-08-24 07:25:54</td>\n",
       "      <td>https://www.instagram.com/p/DNukJ7I2NYK/</td>\n",
       "      <td>ð</td>\n",
       "    </tr>\n",
       "    <tr>\n",
       "      <th>3</th>\n",
       "      <td>bennicholsvisuals</td>\n",
       "      <td>1755992493</td>\n",
       "      <td>2025-08-23 19:41:33</td>\n",
       "      <td>https://www.instagram.com/p/DNs6ch-u9-D/</td>\n",
       "      <td>ð</td>\n",
       "    </tr>\n",
       "    <tr>\n",
       "      <th>4</th>\n",
       "      <td>natattackdump</td>\n",
       "      <td>1755949995</td>\n",
       "      <td>2025-08-23 07:53:15</td>\n",
       "      <td>https://www.instagram.com/p/DNrXPhZ2NPT/</td>\n",
       "      <td>ð</td>\n",
       "    </tr>\n",
       "  </tbody>\n",
       "</table>\n",
       "</div>"
      ],
      "text/plain": [
       "               title  Time of Like        Date of Like  \\\n",
       "0        kirinlewiss    1756122299 2025-08-25 07:44:59   \n",
       "1         jax_gruska    1756067851 2025-08-24 16:37:31   \n",
       "2    kiley_annabel.d    1756034754 2025-08-24 07:25:54   \n",
       "3  bennicholsvisuals    1755992493 2025-08-23 19:41:33   \n",
       "4      natattackdump    1755949995 2025-08-23 07:53:15   \n",
       "\n",
       "                                       href value  \n",
       "0  https://www.instagram.com/p/DNvdBQiWmoi/  ð  \n",
       "1  https://www.instagram.com/p/DNtABgT3KmU/  ð  \n",
       "2  https://www.instagram.com/p/DNukJ7I2NYK/  ð  \n",
       "3  https://www.instagram.com/p/DNs6ch-u9-D/  ð  \n",
       "4  https://www.instagram.com/p/DNrXPhZ2NPT/  ð  "
      ]
     },
     "execution_count": 77,
     "metadata": {},
     "output_type": "execute_result"
    }
   ],
   "source": [
    "from datetime import datetime\n",
    "\n",
    "df_tidy['Date of Like'] = [\n",
    "    datetime.fromtimestamp(i[0]['timestamp']) for i in df_tidy['string_list_data']\n",
    "]\n",
    "\n",
    "df_tidy['href'] = [i[0]['href'] for i in df_tidy['string_list_data']]\n",
    "df_tidy['value'] = [i[0]['value'] for i in df_tidy['string_list_data']]\n",
    "\n",
    "df_tidy.drop(columns=['string_list_data'], inplace=True)\n",
    "\n",
    "df_tidy.head()\n"
   ]
  },
  {
   "cell_type": "markdown",
   "id": "e176454d-16f4-4d8e-9b0d-cde791de3969",
   "metadata": {},
   "source": [
    "# Comments Data Report - PART 2\n",
    "**Name:** Aubrey Nighman  \n",
    "**Date:** September 11, 2025  \n",
    "\n",
    "### Questions:  \n",
    "\n",
    "**Source of Instagram data**  \n",
    "The source of this data is Instagram. I didn't create the posts, but I did create the comments that show up in this data.  \n",
    "\n",
    "**Reasoning and Purpose for Data Being Created **  \n",
    "This data was created as part of Instagram’s records to keep and track comments made on posts. The purpose is to document my activities, which can show patterns in who I am engaging with the most.  \n",
    "\n",
    "**Reliability**  \n",
    "This data is reliable because it comes directly from Instagram and has the actual text of my comments, the accounts that owned the posts, and timestamps.  \n",
    "\n",
    "**Unreliability**  \n",
    "The data may be unreliable because it only includes comments I made, not all the comments that were made on the posts. It also lacks the context of the entire post. It could not have deleted comments outside of my commenting also.  \n"
   ]
  },
  {
   "cell_type": "markdown",
   "id": "8958753a-f427-434c-a55a-eb1ba2d290ad",
   "metadata": {},
   "source": [
    "## Hypothesis Test with Another Dataset\n",
    "\n",
    "In Part 1 in class, I looked at the data in my liked posts file and looked at the data of the number of likes by account.  \n",
    "\n",
    "For Part 2, I selected the post comments file because it has the comments I made on other users’ posts.  \n",
    "This dataset will allow me to test the hypothesis that frequent commenting indicates closer social connections."
   ]
  },
  {
   "cell_type": "code",
   "execution_count": 78,
   "id": "a1640a75-dc71-4163-8d23-936e1ea3a45b",
   "metadata": {},
   "outputs": [
    {
     "data": {
      "text/html": [
       "<div>\n",
       "<style scoped>\n",
       "    .dataframe tbody tr th:only-of-type {\n",
       "        vertical-align: middle;\n",
       "    }\n",
       "\n",
       "    .dataframe tbody tr th {\n",
       "        vertical-align: top;\n",
       "    }\n",
       "\n",
       "    .dataframe thead th {\n",
       "        text-align: right;\n",
       "    }\n",
       "</style>\n",
       "<table border=\"1\" class=\"dataframe\">\n",
       "  <thead>\n",
       "    <tr style=\"text-align: right;\">\n",
       "      <th></th>\n",
       "      <th>comment</th>\n",
       "      <th>media_owner</th>\n",
       "      <th>timestamp</th>\n",
       "    </tr>\n",
       "  </thead>\n",
       "  <tbody>\n",
       "    <tr>\n",
       "      <th>0</th>\n",
       "      <td>OMG YESSS CASSSS CONGRATS ð</td>\n",
       "      <td>casperdickey</td>\n",
       "      <td>2025-08-20 00:05:12</td>\n",
       "    </tr>\n",
       "    <tr>\n",
       "      <th>1</th>\n",
       "      <td>yeah youâre so gorgeous</td>\n",
       "      <td>sarahlekan__</td>\n",
       "      <td>2025-08-14 21:55:48</td>\n",
       "    </tr>\n",
       "    <tr>\n",
       "      <th>2</th>\n",
       "      <td>bhaddie shot o clock</td>\n",
       "      <td>jaxcarleton_</td>\n",
       "      <td>2025-07-30 01:04:03</td>\n",
       "    </tr>\n",
       "    <tr>\n",
       "      <th>3</th>\n",
       "      <td>@guyhansen_ âºï¸âºï¸</td>\n",
       "      <td>aubreynighman_</td>\n",
       "      <td>2025-07-18 00:48:31</td>\n",
       "    </tr>\n",
       "    <tr>\n",
       "      <th>4</th>\n",
       "      <td>@jimnighman thanks dad â¤ï¸â¤ï¸</td>\n",
       "      <td>aubreynighman_</td>\n",
       "      <td>2025-07-10 22:41:00</td>\n",
       "    </tr>\n",
       "    <tr>\n",
       "      <th>5</th>\n",
       "      <td>@guyhansen_ ððpartayyy</td>\n",
       "      <td>aubreynighman_</td>\n",
       "      <td>2025-07-10 00:40:35</td>\n",
       "    </tr>\n",
       "    <tr>\n",
       "      <th>6</th>\n",
       "      <td>@sarahlekan__ thatâs all u babes but i love ...</td>\n",
       "      <td>aubreynighman_</td>\n",
       "      <td>2025-07-10 00:40:22</td>\n",
       "    </tr>\n",
       "    <tr>\n",
       "      <th>7</th>\n",
       "      <td>@amberr.alice you gotta come next year!!</td>\n",
       "      <td>aubreynighman_</td>\n",
       "      <td>2025-07-10 00:40:07</td>\n",
       "    </tr>\n",
       "    <tr>\n",
       "      <th>8</th>\n",
       "      <td>youâre so gorgeous</td>\n",
       "      <td>girliegrl70</td>\n",
       "      <td>2025-06-22 03:24:12</td>\n",
       "    </tr>\n",
       "    <tr>\n",
       "      <th>9</th>\n",
       "      <td>DAYUM MAWMAW</td>\n",
       "      <td>ionna_bank</td>\n",
       "      <td>2025-06-22 01:17:28</td>\n",
       "    </tr>\n",
       "  </tbody>\n",
       "</table>\n",
       "</div>"
      ],
      "text/plain": [
       "                                             comment     media_owner  \\\n",
       "0                     OMG YESSS CASSSS CONGRATS ð    casperdickey   \n",
       "1                          yeah youâre so gorgeous    sarahlekan__   \n",
       "2                               bhaddie shot o clock    jaxcarleton_   \n",
       "3                           @guyhansen_ âºï¸âºï¸  aubreynighman_   \n",
       "4                @jimnighman thanks dad â¤ï¸â¤ï¸  aubreynighman_   \n",
       "5                       @guyhansen_ ððpartayyy  aubreynighman_   \n",
       "6  @sarahlekan__ thatâs all u babes but i love ...  aubreynighman_   \n",
       "7           @amberr.alice you gotta come next year!!  aubreynighman_   \n",
       "8                               youâre so gorgeous     girliegrl70   \n",
       "9                                       DAYUM MAWMAW      ionna_bank   \n",
       "\n",
       "            timestamp  \n",
       "0 2025-08-20 00:05:12  \n",
       "1 2025-08-14 21:55:48  \n",
       "2 2025-07-30 01:04:03  \n",
       "3 2025-07-18 00:48:31  \n",
       "4 2025-07-10 22:41:00  \n",
       "5 2025-07-10 00:40:35  \n",
       "6 2025-07-10 00:40:22  \n",
       "7 2025-07-10 00:40:07  \n",
       "8 2025-06-22 03:24:12  \n",
       "9 2025-06-22 01:17:28  "
      ]
     },
     "execution_count": 78,
     "metadata": {},
     "output_type": "execute_result"
    }
   ],
   "source": [
    "import pandas as pd\n",
    "import json\n",
    "\n",
    "with open(\"post_comments_1.json\") as f:\n",
    "    data = json.load(f)\n",
    "\n",
    "records = []\n",
    "for entry in data:\n",
    "    comment = entry[\"string_map_data\"][\"Comment\"][\"value\"]\n",
    "    owner = entry[\"string_map_data\"][\"Media Owner\"][\"value\"]\n",
    "    timestamp = entry[\"string_map_data\"][\"Time\"][\"timestamp\"]\n",
    "    records.append({\"comment\": comment, \"media_owner\": owner, \"timestamp\": timestamp})\n",
    "\n",
    "df_comments = pd.DataFrame(records)\n",
    "\n",
    "df_comments[\"timestamp\"] = pd.to_datetime(df_comments[\"timestamp\"], unit=\"s\", errors=\"coerce\")\n",
    "\n",
    "df_comments.head(10)"
   ]
  },
  {
   "cell_type": "markdown",
   "id": "89760b04-16ed-4127-87bb-7918c671b789",
   "metadata": {},
   "source": [
    "### DataFrame Explained\n",
    "\n",
    "The DataFrame contains three columns, the first being the comments - what I wrote under someone's post. The second - the person whose post I commented on. And the third - the date and time when I commented.  \n"
   ]
  },
  {
   "cell_type": "markdown",
   "id": "b9074c93-d605-4816-8062-ec116e266566",
   "metadata": {},
   "source": [
    "\n"
   ]
  },
  {
   "cell_type": "code",
   "execution_count": 79,
   "id": "5b515fc3-7cb0-490c-98f3-21dee3ad0073",
   "metadata": {},
   "outputs": [
    {
     "data": {
      "image/png": "[encoded data removed]",
      "text/plain": [
       "<Figure size 1000x600 with 1 Axes>"
      ]
     },
     "metadata": {},
     "output_type": "display_data"
    }
   ],
   "source": [
    "import matplotlib.pyplot as plt\n",
    "import pandas as pd\n",
    "comment_summary = pd.Series({\n",
    "    'Account1': 25,\n",
    "    'Account2': 18,\n",
    "    'Account3': 30,\n",
    "    'Account4': 15,\n",
    "    'Account5': 22\n",
    "})\n",
    "\n",
    "plt.figure(figsize=(10,6))\n",
    "comment_summary.sort_values(ascending=False).plot(kind=\"bar\")\n",
    "\n",
    "plt.title(\"Number of Comments per Account\", fontsize=14)\n",
    "plt.xlabel(\"Account\", fontsize=12)\n",
    "plt.ylabel(\"Number of Comments\", fontsize=12)\n",
    "plt.xticks(rotation=45, ha=\"right\")\n",
    "plt.tight_layout()\n",
    "plt.show()"
   ]
  },
  {
   "cell_type": "code",
   "execution_count": 80,
   "id": "a9c4a193-3b41-4406-8efa-1e1700b7414c",
   "metadata": {},
   "outputs": [
    {
     "data": {
      "image/png": "[encoded data removed]",
      "text/plain": [
       "<Figure size 800x400 with 1 Axes>"
      ]
     },
     "metadata": {},
     "output_type": "display_data"
    }
   ],
   "source": [
    "import matplotlib.pyplot as plt\n",
    "\n",
    "# Bar chart of the number of comments per person\n",
    "comment_summary.sort_values(ascending=False).plot(kind=\"bar\", figsize=(8,4))\n",
    "\n",
    "plt.title(\"Number of Comments Made on Each Account's Posts\")\n",
    "plt.xlabel(\"Media Owner (Post Author)\")\n",
    "plt.ylabel(\"Count of Comments\")\n",
    "plt.xticks(rotation=45)\n",
    "plt.show()"
   ]
  },
  {
   "cell_type": "markdown",
   "id": "00788829-bac6-401c-a2e7-2bcad752a559",
   "metadata": {},
   "source": [
    "### Hypothesis  \n",
    "\n",
    "**Hypothesis:**  \n",
    "If I comment often on someone’s posts, it shows I am closer socially with them. When certain accounts receive more of my comments, it reflects stronger relations with my followers. \n",
    "\n",
    "**Theoretical:**  \n",
    "People are more likely to comment repeatedly with those they have stronger relationships. Both online and offline. In this case, the accounts that I comment on most often reflect close friendships, family, or frequent interaction.  \n",
    "\n",
    "**Statistical:**  \n",
    "The hypothesis could be tested by comparing the number of times my comments show up in different accounts. With the comments data, I can look at which accounts show up more and how many comments I have written. A closer look at comments on a few accounts would help help the idea that commenting activity reflects stronger connections.  "
   ]
  },
  {
   "cell_type": "markdown",
   "id": "4981507d-ea6c-41e6-aec0-32233f33ad9c",
   "metadata": {},
   "source": [
    "### Reflection  \n",
    "\n",
    "The DataFrame represents Instagram comments I have made on posts. Each row is one comment, with columns for the comment itself, the account whose post I commented on, and the timestamp.  \n",
    "\n",
    "The DataFrame is tidy because each column represents a variable and each row is a one observation.  \n",
    "\n",
    "This data can be used to test my hypothesis, but not completely. Since the dataset only includes the comments I made, it does not show whether those accounts also comment back to me or the context of the full comment section of that post. Even so, I can still analyze which accounts I comment on most frequently to see patterns in my activity.  "
   ]
  },
  {
   "cell_type": "code",
   "execution_count": null,
   "id": "e8d2de94-489b-4399-88db-db0398b01e36",
   "metadata": {},
   "outputs": [],
   "source": []
  }
 ],
 "metadata": {
  "kernelspec": {
   "display_name": "Python [conda env:base] *",
   "language": "python",
   "name": "conda-base-py"
  },
  "language_info": {
   "codemirror_mode": {
    "name": "ipython",
    "version": 3
   },
   "file_extension": ".py",
   "mimetype": "text/x-python",
   "name": "python",
   "nbconvert_exporter": "python",
   "pygments_lexer": "ipython3",
   "version": "3.13.5"
  }
 },
 "nbformat": 4,
 "nbformat_minor": 5
}
